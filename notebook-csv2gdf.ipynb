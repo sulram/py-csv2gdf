{
 "cells": [
  {
   "cell_type": "code",
   "execution_count": 1,
   "metadata": {},
   "outputs": [],
   "source": [
    "# import libs\n",
    "\n",
    "import operator\n",
    "import csv\n",
    "import util\n",
    "import re\n",
    "\n",
    "from progress.bar import Bar\n",
    "from optparse import OptionParser\n",
    "from gdf_formatter import Graph\n",
    "\n",
    "# global variables\n",
    "\n",
    "csv_file = \"tweets.csv\"\n",
    "\n",
    "graph = Graph()\n",
    "links = dict()\n",
    "tweets = []\n",
    "nodes = dict()\n",
    "\n",
    "# util functions\n",
    "\n",
    "def saveLink(node1, node2, w):\n",
    "    key = node1 + \"_\" + node2\n",
    "    if key in links:\n",
    "        links[key] += w\n",
    "    else:\n",
    "        links[key] = w\n",
    "\n",
    "def nodes_check(word):\n",
    "    if not word in nodes:\n",
    "        nodes[word] = 1\n",
    "    else:\n",
    "        nodes[word] += 1\n",
    "\n",
    "with open(csv_file, \"r\") as my_input_file:\n",
    "    for row in csv.DictReader(my_input_file):\n",
    "        words = util.tokenize(row['tweet'])\n",
    "        for word in words:\n",
    "            nodes_check(word)\n",
    "            for other_word in words:\n",
    "                if word != other_word:\n",
    "                    nodes_check(other_word)\n",
    "                    saveLink(word, other_word, 0.1)\n",
    "\n",
    "sorted_nodes = sorted(nodes.items(), key=operator.itemgetter(1),reverse=True)"
   ]
  },
  {
   "cell_type": "code",
   "execution_count": 8,
   "metadata": {},
   "outputs": [
    {
     "name": "stdout",
     "output_type": "stream",
     "text": [
      "[('casa', 9490), ('operação', 8731), ('governador', 7626), ('escola', 7339), ('gente', 6742), ('barulho', 5965), ('sobrevoando', 5721), ('pm', 5677), ('atirando', 5347), ('fuzil', 5283), ('pessoas', 5101), ('crianças', 5082), ('moradores', 4897), ('rj', 4735), ('policial', 4718), ('morro', 4500), ('deus', 4474), ('witzel', 4445), ('comunidade', 4357), ('guerra', 4346), ('maré', 4308), ('rua', 4234), ('contra', 4208), ('todo', 4053), ('bandido', 3912), ('manhã', 3851), ('bala', 3554), ('policiais', 3531), ('lado', 3373), ('criança', 3334), ('morador', 3237), ('estado', 3235), ('anos', 3212), ('hora', 3202), ('civil', 3146), ('alvo', 3103), ('sendo', 3085), ('janeiro', 3071), ('matar', 3058), ('tão', 3054), ('bandidos', 3034), ('troca', 3009), ('complexo', 2984), ('medo', 2969), ('chão', 2920), ('todos', 2918), ('região', 2918), ('quer', 2909), ('cidade', 2893), ('carro', 2868), ('acordei', 2867), ('animais', 2824), ('nunca', 2817), ('cabeça', 2778), ('sair', 2775), ('ir', 2769), ('porra', 2705), ('passando', 2647), ('morte', 2572), ('militar', 2549), ('alto', 2535), ('brasil', 2505), ('segurança', 2502), ('perto', 2484), ('atirar', 2473), ('esmo', 2427), ('vida', 2410), ('família', 2378), ('tráfico', 2335), ('ação', 2324), ('favelas', 2308), ('mano', 2294), ('coisa', 2280), ('ai', 2279), ('vi', 2270), ('mundo', 2255), ('sei', 2250), ('ninguém', 2226), ('passou', 2214), ('caiu', 2169), ('ficar', 2164), ('atingido', 2163), ('desse', 2160), ('pobre', 2153), ('alemão', 2139), ('disparados', 2130), ('levar', 2127), ('som', 2106), ('falando', 2096), ('fica', 2070), ('to', 2063), ('ontem', 2053), ('d', 2044), ('toda', 2023), ('população', 2020), ('meio', 2005), ('mãe', 1997), ('acha', 1991), ('sapão', 1977), ('menos', 1976), ('nenhum', 1960), ('passa', 1948), ('arma', 1933), ('então', 1928), ('povo', 1927), ('traficantes', 1920), ('tiroteio', 1919), ('ouvi', 1911), ('caralho', 1907), ('tomar', 1901), ('moro', 1899), ('jogar', 1896), ('vários', 1895), ('quase', 1894), ('vão', 1889), ('vez', 1864), ('governo', 1857), ('saber', 1852), ('armas', 1845), ('muitos', 1832), ('inocentes', 1831), ('área', 1826), ('brincar', 1819), ('falar', 1817), ('voando', 1816), ('bairro', 1796), ('tô', 1796), ('parece', 1784), ('momento', 1763), ('quero', 1751), ('local', 1745), ('exército', 1744), ('comunidades', 1733), ('dias', 1732), ('chega', 1722), ('vindo', 1719), ('presidente', 1714), ('trabalhar', 1706), ('mora', 1701), ('hj', 1700), ('terror', 1699), ('melhor', 1699), ('filho', 1692), ('dizer', 1686), ('além', 1686), ('logo', 1685), ('olha', 1684), ('mata', 1679), ('desde', 1654), ('sai', 1642), ('merda', 1635), ('lugar', 1629), ('vila', 1621), ('inocente', 1615), ('fuzis', 1614), ('acordar', 1613), ('política', 1603), ('maior', 1603), ('avião', 1586), ('ônibus', 1574), ('sniper', 1570), ('ouvir', 1570), ('fala', 1557), ('vim', 1552), ('drogas', 1550), ('quanto', 1550), ('nesse', 1535), ('escolas', 1532), ('morreu', 1514), ('visão', 1512), ('normal', 1512), ('pouco', 1504), ('canhão', 1502), ('muita', 1500), ('trabalho', 1498), ('deve', 1481), ('blindado', 1476), ('semana', 1465), ('perdida', 1462), ('fogo', 1457), ('passar', 1449), ('tempo', 1447), ('mortos', 1435), ('indo', 1433), ('qualquer', 1420), ('atira', 1414), ('vezes', 1406), ('rasante', 1403), ('morrer', 1396), ('pessoa', 1392), ('zona', 1392), ('violência', 1384), ('disse', 1377), ('pai', 1371), ('direção', 1371), ('morto', 1371), ('causa', 1356), ('traficante', 1353), ('pública', 1353), ('correndo', 1348)]\n"
     ]
    }
   ],
   "source": [
    "# check most used words\n",
    "print(sorted_nodes[:200])"
   ]
  },
  {
   "cell_type": "code",
   "execution_count": 6,
   "metadata": {},
   "outputs": [
    {
     "name": "stdout",
     "output_type": "stream",
     "text": [
      "saving...\n",
      "done!\n"
     ]
    }
   ],
   "source": [
    "def tryAddNode(n):\n",
    "    try:\n",
    "        graph.addNode(name=n)\n",
    "    except ValueError:\n",
    "        pass\n",
    "\n",
    "def tryAddLink(n1,n2,v):\n",
    "    try:\n",
    "        graph.addLink(node1=n1, node2=n2, weight=v)\n",
    "    except:\n",
    "        pass\n",
    "    \n",
    "for k, v in links.items():\n",
    "    words = k.split('_')\n",
    "    if v > 0.4 and nodes[words[0]] > 20 and nodes[words[1]] > 20:\n",
    "        tryAddNode(words[0])\n",
    "        tryAddNode(words[1])\n",
    "        tryAddLink(words[0], words[1], v)\n",
    "\n",
    "    \n",
    "print('saving...')\n",
    "graph.dump(output_file='output2.gdf')\n",
    "print('done!')"
   ]
  },
  {
   "cell_type": "code",
   "execution_count": null,
   "metadata": {},
   "outputs": [],
   "source": []
  }
 ],
 "metadata": {
  "kernelspec": {
   "display_name": "Python 3",
   "language": "python",
   "name": "python3"
  },
  "language_info": {
   "codemirror_mode": {
    "name": "ipython",
    "version": 3
   },
   "file_extension": ".py",
   "mimetype": "text/x-python",
   "name": "python",
   "nbconvert_exporter": "python",
   "pygments_lexer": "ipython3",
   "version": "3.5.6"
  }
 },
 "nbformat": 4,
 "nbformat_minor": 4
}
